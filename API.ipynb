{
 "cells": [
  {
   "cell_type": "markdown",
   "id": "748f2916",
   "metadata": {},
   "source": [
    "## Homework\n",
    "check out this Pokemon API https://pokeapi.co/ Use the requests package to connect to this API and get and store data for 5 different pokemon. Get the pokemons: name, atleast one ability's name, base_experience, and the URL for its sprite (an image that shows up on screen) for the 'front_shiny', attack base_state, hp base_stat, defense base_stat"
   ]
  },
  {
   "cell_type": "code",
   "execution_count": null,
   "id": "973ac8fe",
   "metadata": {},
   "outputs": [],
   "source": [
    "import requests\n",
    "\n",
    "url1 =\"https://pokeapi.co/api/v2/pokemon/ditto\"\n",
    "response1 =requests.get(url1)\n",
    "# character1 = response1.json()['abilities'][0]\n",
    "# (character1)\n",
    "\n",
    "url2 =\"https://pokeapi.co/api/v2/pokemon/pikachu\"\n",
    "response2 =requests.get(url2)\n",
    "# character2 = response2.json()['abilities'][0]\n",
    "# (character2)\n",
    "\n",
    "url3 =\"https://pokeapi.co/api/v2/pokemon/amoonguss\"\n",
    "response3 =requests.get(url3)\n",
    "# character3 = response3.json()['abilities'][0]\n",
    "# (character3)\n",
    "\n",
    "url4 =\"https://pokeapi.co/api/v2/pokemon/charmander\"\n",
    "response4 =requests.get(url4)\n",
    "# character4 = response4.json()['abilities'][0]\n",
    "# (character4)\n",
    "\n",
    "url5 =\"https://pokeapi.co/api/v2/pokemon/charmeleon\"\n",
    "response5 =requests.get(url5)\n",
    "# character5 = response5.json()['abilities'][0]\n",
    "# (character5)\n",
    "\n",
    "new_data=[]\n",
    "def pokenmon_info(pokemon):\n",
    "    new_data=[]\n",
    "    character_dict={}\n",
    "    character_name = f\"{pokemon}['name']\"   \n",
    "    character_dict[character_name]={\n",
    "            'p_name':pokemon['name'],\n",
    "            'ability_name':pokemon['abilities'][0]['ability']['name'],\n",
    "            'base_experience':pokemon['base_experience'],\n",
    "            'sprite_url':pokemon['sprites']['back_default'],\n",
    "            'attack_stat':pokemon['stats'][1]['base_stat'],\n",
    "            'hp_power':pokemon['stats'][0]['base_stat'],\n",
    "            'defense':pokemon['stats'][2]['base_stat']\n",
    "    }\n",
    "    new_data.append(character_dict)\n",
    "    return new_data\n",
    "\n",
    "pokenmon_info(response1.json())\n",
    "pokenmon_info(response2.json())\n",
    "pokenmon_info(response3.json())\n",
    "pokenmon_info(response4.json())\n",
    "pokenmon_info(response5.json())\n",
    "\n",
    "#done"
   ]
  }
 ],
 "metadata": {
  "kernelspec": {
   "display_name": "Python 3 (ipykernel)",
   "language": "python",
   "name": "python3"
  },
  "language_info": {
   "codemirror_mode": {
    "name": "ipython",
    "version": 3
   },
   "file_extension": ".py",
   "mimetype": "text/x-python",
   "name": "python",
   "nbconvert_exporter": "python",
   "pygments_lexer": "ipython3",
   "version": "3.9.7"
  }
 },
 "nbformat": 4,
 "nbformat_minor": 5
}
