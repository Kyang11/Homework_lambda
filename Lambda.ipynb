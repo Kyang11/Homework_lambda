{
 "cells": [
  {
   "cell_type": "markdown",
   "id": "2b005267",
   "metadata": {},
   "source": [
    "#### Exercise #1\n",
    "Filter out all of the empty strings from the list below\n",
    "\n",
    "Output: ['Argentina', 'San Diego', 'Boston', 'New York']"
   ]
  },
  {
   "cell_type": "markdown",
   "id": "1f7873e0",
   "metadata": {},
   "source": [
    "#### Older python way"
   ]
  },
  {
   "cell_type": "code",
   "execution_count": null,
   "id": "dfb8fb33",
   "metadata": {},
   "outputs": [],
   "source": [
    "places = [\" \",\"Argentina\", \" \", \"San Diego\",\"\",\"  \",\"\",\"Boston\",\"New York\"]\n",
    "\n",
    "empty=[]\n",
    "for string in places:\n",
    "    if (string !=\"\" and string!=\" \") and string !=\"  \":\n",
    "        empty.append(string)\n",
    "print(empty)"
   ]
  },
  {
   "cell_type": "markdown",
   "id": "368bd4e5",
   "metadata": {},
   "source": [
    "#### Using lambda with filter¶"
   ]
  },
  {
   "cell_type": "code",
   "execution_count": null,
   "id": "2879fc5e",
   "metadata": {},
   "outputs": [],
   "source": [
    "places = [\" \",\"Argentina\", \" \", \"San Diego\",\"\",\"  \",\"\",\"Boston\",\"New York\"]\n",
    "holder = filter(lambda x: (x!=\"\" and x!=\" \") and x!=\"  \", places )\n",
    "empty = list(holder)\n",
    "print(empty)"
   ]
  },
  {
   "cell_type": "code",
   "execution_count": null,
   "id": "69252f6b",
   "metadata": {},
   "outputs": [],
   "source": []
  },
  {
   "cell_type": "markdown",
   "id": "d8a7e304",
   "metadata": {},
   "source": [
    "#### Exercise #2\n",
    "Write an anonymous function that sorts this list by the last name...\n",
    "Hint: Use the \".sort()\" method and access the key\"\n",
    "\n",
    "Output: ['Victor aNisimov', 'Gary A.J. Bernstein', 'Joel Carter', 'Andrew P. Garfield', 'David hassELHOFF']"
   ]
  },
  {
   "cell_type": "code",
   "execution_count": null,
   "id": "36f21c1d",
   "metadata": {},
   "outputs": [],
   "source": [
    "author = [\"Joel Carter\", \"Victor aNisimov\", \"Andrew P. Garfield\",\"David hassELHOFF\",\"Gary A.J. Bernstein\"]\n",
    "\n",
    "author.sort(key=lambda name: name.split(\" \")[-1].lower())\n",
    "print(author)\n",
    "    "
   ]
  },
  {
   "cell_type": "code",
   "execution_count": null,
   "id": "b431805e",
   "metadata": {},
   "outputs": [],
   "source": []
  },
  {
   "cell_type": "markdown",
   "id": "69f948b4",
   "metadata": {},
   "source": [
    "#### Exercise #3\n",
    "Convert the list below from Celsius to Farhenheit, using the map function with a lambda...\n",
    "\n",
    "Output: [('Nashua', 89.6), ('Boston', 53.6), ('Los Angelos', 111.2), ('Miami', 84.2)]"
   ]
  },
  {
   "cell_type": "code",
   "execution_count": 5,
   "id": "45013a2d",
   "metadata": {},
   "outputs": [
    {
     "name": "stdout",
     "output_type": "stream",
     "text": [
      "[('Nashua', 89.6), ('Boston', 53.6), ('Los Angelos', 111.2), ('Miami', 84.2)]\n"
     ]
    }
   ],
   "source": [
    "# F = (9/5)*C + 32\n",
    "# places = [('Nashua',32),(\"Boston\",12),(\"Los Angelos\",44),(\"Miami\",29)]\n",
    "\n",
    "places = [('Nashua',32),(\"Boston\",12),(\"Los Angelos\",44),(\"Miami\",29)]\n",
    "\n",
    "farhenheit = list(map((lambda x: tuple([x[0],x[1]*(9/5) + 32])), places))\n",
    "print(farhenheit)\n",
    "\n",
    "\n",
    "# places = [32,12,44,29]\n",
    "\n",
    "# farhenheit= list(map(lambda x:(float(9/5)*x + 32),places))\n",
    "\n",
    "# print(farhenheit)"
   ]
  },
  {
   "cell_type": "code",
   "execution_count": null,
   "id": "bde1c159",
   "metadata": {},
   "outputs": [],
   "source": [
    "## this one is hard\n"
   ]
  },
  {
   "cell_type": "markdown",
   "id": "12fcd6c2",
   "metadata": {},
   "source": [
    "#### Exercise #4"
   ]
  },
  {
   "cell_type": "raw",
   "id": "7e0248ce",
   "metadata": {},
   "source": [
    "Write a recursion function to perform the fibonacci sequence up to the number passed in.\n",
    "\n",
    "Output for fib(5) => \n",
    "Iteration 0: 1\n",
    "Iteration 1: 1\n",
    "Iteration 2: 2\n",
    "Iteration 3: 3\n",
    "Iteration 4: 5\n",
    "Iteration 5: 8\n",
    "    \n"
   ]
  },
  {
   "cell_type": "code",
   "execution_count": null,
   "id": "83632125",
   "metadata": {},
   "outputs": [],
   "source": [
    "def fib(term):\n",
    "    if term <= 1:\n",
    "        return (term)\n",
    "    else:  \n",
    "        return (fib(term-1) + fib(term-2))\n",
    "f = 6\n",
    "for num in range(f):\n",
    "    print(f\"Iteration {num}: {fib(num+1)}\")"
   ]
  },
  {
   "cell_type": "code",
   "execution_count": null,
   "id": "52cd2194",
   "metadata": {},
   "outputs": [],
   "source": []
  }
 ],
 "metadata": {
  "kernelspec": {
   "display_name": "Python 3 (ipykernel)",
   "language": "python",
   "name": "python3"
  },
  "language_info": {
   "codemirror_mode": {
    "name": "ipython",
    "version": 3
   },
   "file_extension": ".py",
   "mimetype": "text/x-python",
   "name": "python",
   "nbconvert_exporter": "python",
   "pygments_lexer": "ipython3",
   "version": "3.9.7"
  }
 },
 "nbformat": 4,
 "nbformat_minor": 5
}
